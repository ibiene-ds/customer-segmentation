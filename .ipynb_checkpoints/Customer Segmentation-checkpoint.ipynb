{
 "cells": [
  {
   "cell_type": "markdown",
   "id": "bfd31feb",
   "metadata": {},
   "source": [
    "# Customer Segmentation using KMeans - You Are What You Eat!"
   ]
  },
  {
   "cell_type": "markdown",
   "id": "58b1e133",
   "metadata": {},
   "source": [
    "In this project we use k-means clustering to segment up the customer base in order to increase business understanding, and to enhance the relevancy of targeted messaging & customer communications.\n",
    "\n",
    "# Table of contents\n",
    "\n",
    "- [00. Project Overview](#overview-main)\n",
    "    - [Context](#overview-context)\n",
    "    - [Actions](#overview-actions)\n",
    "    - [Results](#overview-results)\n",
    "- [01. Data Preparation](#data-prep)\n",
    "- [02. K-Means](#k-means)\n",
    "    - [Concept Overview](#kmeans-overview)\n",
    "    - [Data Preprocessing](#data-prep)\n",
    "    - [Finding A Good Value For K](#finding-best-k)\n",
    "    - [Model Fitting and Results](#model-fitting)\n",
    "- [03. Application](#kmeans-application)\n",
    "- [04. Growth & Next Steps](#growth-next-steps)\n",
    "\n",
    "___\n",
    "\n",
    "# Project Overview  <a name=\"overview-main\"></a>\n",
    "\n",
    "### Context <a name=\"overview-context\"></a>\n",
    "\n",
    "The Senior Management team from our client, a supermarket chain, are disagreeing about how customers are shopping, and how lifestyle choices may affect which food areas customers are shopping into, or more interestingly, not shopping into.\n",
    "\n",
    "They have asked us to use data, and Machine Learning to help segment up their customers based upon their engagement with each of the major food categories - aiding business understanding of the customer base, and to enhance the relevancy of targeted messaging & customer communications.\n",
    "\n",
    "<br>\n",
    "\n",
    "### Actions <a name=\"overview-actions\"></a>\n",
    "\n",
    "We firstly needed to compile the necessary data from sevaral tables in the database, namely the *transactions* table and the *product_areas* table.  We joined together the relevant information using Pandas, and then aggregated the transactional data across product areas, from the most recent six month to a customer level.  The final data for clustering is, for each customer, the percentage of sales allocated to each product area.\n",
    "\n",
    "As a starting point, we test & apply k-means clustering for this task.  We need to apply some data pre-processing, most importantly feature scaling to ensure all variables exist on the same scale - a very important consideration for distance based algorithms such as k-means.\n",
    "\n",
    "As k-means is an *unsupervised learning* approach, in other words there are no labels - we use a process known as *Within Cluster Sum of Squares (WCSS)* to understand what a \"good\" number of clusters or segments is.\n",
    "\n",
    "Based upon this, we apply the k-means algorithm onto the product area data, append the clusters to our customer base, and then profile the resulting customer segments to understand what the differentiating factors were!\n",
    "<br>\n",
    "<br>\n",
    "\n",
    "### Results <a name=\"overview-results\"></a>\n",
    "\n",
    "Based upon iterative testing using WCSS we settled on a customer segmentation with 3 clusters.  These clusters ranged in size, with Cluster 0 accounting for 73.6% of the customer base, Cluster 2 accounting for 14.6%, and Cluster 1 accounting for 11.8%.\n",
    "\n",
    "There were some extremely interesting findings from profiling the clusters.\n",
    "\n",
    "For *Cluster 0*, we saw a significant portion of spend being allocated to each of the product areas - showing customers without any particular dietary preference.  \n",
    "\n",
    "For *Cluster 1*, we saw quite high proportions of spend being allocated to Fruit & Vegetables, but very little to the Dairy & Meat product areas.  It could be hypothesised that these customers are following a vegan diet.  \n",
    "\n",
    "Finally customers in *Cluster 2* spent significant portions within Dairy, Fruit & Vegetables, but very little in the Meat product area - so similarly, we would make an early hypothesis that these customers are more along the lines of those following a vegetarian diet.\n"
   ]
  },
  {
   "cell_type": "markdown",
   "id": "a06a705d",
   "metadata": {},
   "source": [
    "# Data Preparation <a name=\"data-prep\"></a>"
   ]
  },
  {
   "cell_type": "code",
   "execution_count": 71,
   "id": "ebde49ea",
   "metadata": {},
   "outputs": [],
   "source": [
    "from sklearn.cluster import KMeans\n",
    "from sklearn.preprocessing import MinMaxScaler\n",
    "import pandas as pd\n",
    "import matplotlib.pyplot as plt\n",
    "import plotly.express as px"
   ]
  },
  {
   "cell_type": "code",
   "execution_count": 4,
   "id": "d9a48895",
   "metadata": {},
   "outputs": [],
   "source": [
    "transactions = pd.read_excel('C:/Users/Ibiene/OneDrive/DataScience_MachineLearning/Data Science Infinity/Machine Learning/Model Building/data/grocery_database.xlsx', sheet_name = 'transactions')\n",
    "product_areas = pd.read_excel('C:/Users/Ibiene/OneDrive/DataScience_MachineLearning/Data Science Infinity/Machine Learning/Model Building/data/grocery_database.xlsx', sheet_name = 'product_areas')"
   ]
  },
  {
   "cell_type": "code",
   "execution_count": 5,
   "id": "e0bd352d",
   "metadata": {},
   "outputs": [
    {
     "data": {
      "text/html": [
       "<div>\n",
       "<style scoped>\n",
       "    .dataframe tbody tr th:only-of-type {\n",
       "        vertical-align: middle;\n",
       "    }\n",
       "\n",
       "    .dataframe tbody tr th {\n",
       "        vertical-align: top;\n",
       "    }\n",
       "\n",
       "    .dataframe thead th {\n",
       "        text-align: right;\n",
       "    }\n",
       "</style>\n",
       "<table border=\"1\" class=\"dataframe\">\n",
       "  <thead>\n",
       "    <tr style=\"text-align: right;\">\n",
       "      <th></th>\n",
       "      <th>customer_id</th>\n",
       "      <th>transaction_date</th>\n",
       "      <th>transaction_id</th>\n",
       "      <th>product_area_id</th>\n",
       "      <th>num_items</th>\n",
       "      <th>sales_cost</th>\n",
       "    </tr>\n",
       "  </thead>\n",
       "  <tbody>\n",
       "    <tr>\n",
       "      <th>26149</th>\n",
       "      <td>591</td>\n",
       "      <td>2020-06-16</td>\n",
       "      <td>436324920340</td>\n",
       "      <td>1</td>\n",
       "      <td>3</td>\n",
       "      <td>74.01</td>\n",
       "    </tr>\n",
       "    <tr>\n",
       "      <th>17863</th>\n",
       "      <td>392</td>\n",
       "      <td>2020-05-27</td>\n",
       "      <td>436122533405</td>\n",
       "      <td>3</td>\n",
       "      <td>12</td>\n",
       "      <td>27.51</td>\n",
       "    </tr>\n",
       "  </tbody>\n",
       "</table>\n",
       "</div>"
      ],
      "text/plain": [
       "       customer_id transaction_date  transaction_id  product_area_id  \\\n",
       "26149          591       2020-06-16    436324920340                1   \n",
       "17863          392       2020-05-27    436122533405                3   \n",
       "\n",
       "       num_items  sales_cost  \n",
       "26149          3       74.01  \n",
       "17863         12       27.51  "
      ]
     },
     "execution_count": 5,
     "metadata": {},
     "output_type": "execute_result"
    }
   ],
   "source": [
    "transactions.sample(2)"
   ]
  },
  {
   "cell_type": "code",
   "execution_count": 6,
   "id": "5341c860",
   "metadata": {
    "scrolled": true
   },
   "outputs": [
    {
     "data": {
      "text/html": [
       "<div>\n",
       "<style scoped>\n",
       "    .dataframe tbody tr th:only-of-type {\n",
       "        vertical-align: middle;\n",
       "    }\n",
       "\n",
       "    .dataframe tbody tr th {\n",
       "        vertical-align: top;\n",
       "    }\n",
       "\n",
       "    .dataframe thead th {\n",
       "        text-align: right;\n",
       "    }\n",
       "</style>\n",
       "<table border=\"1\" class=\"dataframe\">\n",
       "  <thead>\n",
       "    <tr style=\"text-align: right;\">\n",
       "      <th></th>\n",
       "      <th>product_area_id</th>\n",
       "      <th>product_area_name</th>\n",
       "      <th>profit_margin</th>\n",
       "    </tr>\n",
       "  </thead>\n",
       "  <tbody>\n",
       "    <tr>\n",
       "      <th>2</th>\n",
       "      <td>3</td>\n",
       "      <td>Fruit</td>\n",
       "      <td>0.14</td>\n",
       "    </tr>\n",
       "    <tr>\n",
       "      <th>4</th>\n",
       "      <td>5</td>\n",
       "      <td>Meat</td>\n",
       "      <td>0.11</td>\n",
       "    </tr>\n",
       "  </tbody>\n",
       "</table>\n",
       "</div>"
      ],
      "text/plain": [
       "   product_area_id product_area_name  profit_margin\n",
       "2                3             Fruit           0.14\n",
       "4                5              Meat           0.11"
      ]
     },
     "execution_count": 6,
     "metadata": {},
     "output_type": "execute_result"
    }
   ],
   "source": [
    "product_areas.sample(2)"
   ]
  },
  {
   "cell_type": "code",
   "execution_count": 7,
   "id": "10c7f821",
   "metadata": {},
   "outputs": [],
   "source": [
    "transactions = pd.merge(transactions, product_areas, how = \"inner\", on = 'product_area_id')"
   ]
  },
  {
   "cell_type": "code",
   "execution_count": 8,
   "id": "20addc52",
   "metadata": {},
   "outputs": [
    {
     "data": {
      "text/html": [
       "<div>\n",
       "<style scoped>\n",
       "    .dataframe tbody tr th:only-of-type {\n",
       "        vertical-align: middle;\n",
       "    }\n",
       "\n",
       "    .dataframe tbody tr th {\n",
       "        vertical-align: top;\n",
       "    }\n",
       "\n",
       "    .dataframe thead th {\n",
       "        text-align: right;\n",
       "    }\n",
       "</style>\n",
       "<table border=\"1\" class=\"dataframe\">\n",
       "  <thead>\n",
       "    <tr style=\"text-align: right;\">\n",
       "      <th></th>\n",
       "      <th>customer_id</th>\n",
       "      <th>transaction_date</th>\n",
       "      <th>transaction_id</th>\n",
       "      <th>product_area_id</th>\n",
       "      <th>num_items</th>\n",
       "      <th>sales_cost</th>\n",
       "      <th>product_area_name</th>\n",
       "      <th>profit_margin</th>\n",
       "    </tr>\n",
       "  </thead>\n",
       "  <tbody>\n",
       "    <tr>\n",
       "      <th>0</th>\n",
       "      <td>1</td>\n",
       "      <td>2020-04-10</td>\n",
       "      <td>435657533999</td>\n",
       "      <td>3</td>\n",
       "      <td>7</td>\n",
       "      <td>19.16</td>\n",
       "      <td>Fruit</td>\n",
       "      <td>0.14</td>\n",
       "    </tr>\n",
       "    <tr>\n",
       "      <th>1</th>\n",
       "      <td>1</td>\n",
       "      <td>2020-07-20</td>\n",
       "      <td>436667313620</td>\n",
       "      <td>3</td>\n",
       "      <td>8</td>\n",
       "      <td>19.99</td>\n",
       "      <td>Fruit</td>\n",
       "      <td>0.14</td>\n",
       "    </tr>\n",
       "    <tr>\n",
       "      <th>2</th>\n",
       "      <td>1</td>\n",
       "      <td>2020-07-22</td>\n",
       "      <td>436686191960</td>\n",
       "      <td>3</td>\n",
       "      <td>20</td>\n",
       "      <td>61.69</td>\n",
       "      <td>Fruit</td>\n",
       "      <td>0.14</td>\n",
       "    </tr>\n",
       "    <tr>\n",
       "      <th>3</th>\n",
       "      <td>1</td>\n",
       "      <td>2020-08-12</td>\n",
       "      <td>436899350757</td>\n",
       "      <td>3</td>\n",
       "      <td>16</td>\n",
       "      <td>52.28</td>\n",
       "      <td>Fruit</td>\n",
       "      <td>0.14</td>\n",
       "    </tr>\n",
       "    <tr>\n",
       "      <th>4</th>\n",
       "      <td>1</td>\n",
       "      <td>2020-08-13</td>\n",
       "      <td>436908803653</td>\n",
       "      <td>3</td>\n",
       "      <td>14</td>\n",
       "      <td>34.58</td>\n",
       "      <td>Fruit</td>\n",
       "      <td>0.14</td>\n",
       "    </tr>\n",
       "    <tr>\n",
       "      <th>5</th>\n",
       "      <td>1</td>\n",
       "      <td>2020-08-14</td>\n",
       "      <td>436913894011</td>\n",
       "      <td>3</td>\n",
       "      <td>21</td>\n",
       "      <td>63.31</td>\n",
       "      <td>Fruit</td>\n",
       "      <td>0.14</td>\n",
       "    </tr>\n",
       "    <tr>\n",
       "      <th>6</th>\n",
       "      <td>1</td>\n",
       "      <td>2020-08-28</td>\n",
       "      <td>437054306208</td>\n",
       "      <td>3</td>\n",
       "      <td>6</td>\n",
       "      <td>24.99</td>\n",
       "      <td>Fruit</td>\n",
       "      <td>0.14</td>\n",
       "    </tr>\n",
       "    <tr>\n",
       "      <th>7</th>\n",
       "      <td>2</td>\n",
       "      <td>2020-04-15</td>\n",
       "      <td>435703814216</td>\n",
       "      <td>3</td>\n",
       "      <td>13</td>\n",
       "      <td>44.57</td>\n",
       "      <td>Fruit</td>\n",
       "      <td>0.14</td>\n",
       "    </tr>\n",
       "    <tr>\n",
       "      <th>8</th>\n",
       "      <td>2</td>\n",
       "      <td>2020-06-19</td>\n",
       "      <td>436357605508</td>\n",
       "      <td>3</td>\n",
       "      <td>5</td>\n",
       "      <td>10.27</td>\n",
       "      <td>Fruit</td>\n",
       "      <td>0.14</td>\n",
       "    </tr>\n",
       "    <tr>\n",
       "      <th>9</th>\n",
       "      <td>2</td>\n",
       "      <td>2020-06-22</td>\n",
       "      <td>436389036591</td>\n",
       "      <td>3</td>\n",
       "      <td>12</td>\n",
       "      <td>24.68</td>\n",
       "      <td>Fruit</td>\n",
       "      <td>0.14</td>\n",
       "    </tr>\n",
       "  </tbody>\n",
       "</table>\n",
       "</div>"
      ],
      "text/plain": [
       "   customer_id transaction_date  transaction_id  product_area_id  num_items  \\\n",
       "0            1       2020-04-10    435657533999                3          7   \n",
       "1            1       2020-07-20    436667313620                3          8   \n",
       "2            1       2020-07-22    436686191960                3         20   \n",
       "3            1       2020-08-12    436899350757                3         16   \n",
       "4            1       2020-08-13    436908803653                3         14   \n",
       "5            1       2020-08-14    436913894011                3         21   \n",
       "6            1       2020-08-28    437054306208                3          6   \n",
       "7            2       2020-04-15    435703814216                3         13   \n",
       "8            2       2020-06-19    436357605508                3          5   \n",
       "9            2       2020-06-22    436389036591                3         12   \n",
       "\n",
       "   sales_cost product_area_name  profit_margin  \n",
       "0       19.16             Fruit           0.14  \n",
       "1       19.99             Fruit           0.14  \n",
       "2       61.69             Fruit           0.14  \n",
       "3       52.28             Fruit           0.14  \n",
       "4       34.58             Fruit           0.14  \n",
       "5       63.31             Fruit           0.14  \n",
       "6       24.99             Fruit           0.14  \n",
       "7       44.57             Fruit           0.14  \n",
       "8       10.27             Fruit           0.14  \n",
       "9       24.68             Fruit           0.14  "
      ]
     },
     "execution_count": 8,
     "metadata": {},
     "output_type": "execute_result"
    }
   ],
   "source": [
    "transactions.head(10)"
   ]
  },
  {
   "cell_type": "code",
   "execution_count": 9,
   "id": "cdd4d0d7",
   "metadata": {},
   "outputs": [
    {
     "data": {
      "text/plain": [
       "(38506, 8)"
      ]
     },
     "execution_count": 9,
     "metadata": {},
     "output_type": "execute_result"
    }
   ],
   "source": [
    "transactions.shape"
   ]
  },
  {
   "cell_type": "code",
   "execution_count": 10,
   "id": "a265ac9c",
   "metadata": {},
   "outputs": [
    {
     "data": {
      "text/plain": [
       "Fruit         8699\n",
       "Vegetables    8473\n",
       "Non-Food      7784\n",
       "Dairy         7360\n",
       "Meat          6190\n",
       "Name: product_area_name, dtype: int64"
      ]
     },
     "execution_count": 10,
     "metadata": {},
     "output_type": "execute_result"
    }
   ],
   "source": [
    "transactions.product_area_name.value_counts()"
   ]
  },
  {
   "cell_type": "code",
   "execution_count": 11,
   "id": "3ff06cee",
   "metadata": {},
   "outputs": [],
   "source": [
    "transactions = transactions[transactions.product_area_name != 'Non-Food']\n",
    "\n",
    "# the problem statement is focused on customer segmentation using dietary and lifestyle "
   ]
  },
  {
   "cell_type": "code",
   "execution_count": 12,
   "id": "b34369ae",
   "metadata": {},
   "outputs": [
    {
     "data": {
      "text/plain": [
       "(30722, 8)"
      ]
     },
     "execution_count": 12,
     "metadata": {},
     "output_type": "execute_result"
    }
   ],
   "source": [
    "transactions.shape"
   ]
  },
  {
   "cell_type": "code",
   "execution_count": 13,
   "id": "3edc7b21",
   "metadata": {},
   "outputs": [
    {
     "data": {
      "text/html": [
       "<div>\n",
       "<style scoped>\n",
       "    .dataframe tbody tr th:only-of-type {\n",
       "        vertical-align: middle;\n",
       "    }\n",
       "\n",
       "    .dataframe tbody tr th {\n",
       "        vertical-align: top;\n",
       "    }\n",
       "\n",
       "    .dataframe thead th {\n",
       "        text-align: right;\n",
       "    }\n",
       "</style>\n",
       "<table border=\"1\" class=\"dataframe\">\n",
       "  <thead>\n",
       "    <tr style=\"text-align: right;\">\n",
       "      <th></th>\n",
       "      <th>customer_id</th>\n",
       "      <th>product_area_name</th>\n",
       "      <th>sales_cost</th>\n",
       "    </tr>\n",
       "  </thead>\n",
       "  <tbody>\n",
       "    <tr>\n",
       "      <th>0</th>\n",
       "      <td>1</td>\n",
       "      <td>Dairy</td>\n",
       "      <td>367.74</td>\n",
       "    </tr>\n",
       "    <tr>\n",
       "      <th>1</th>\n",
       "      <td>1</td>\n",
       "      <td>Fruit</td>\n",
       "      <td>276.00</td>\n",
       "    </tr>\n",
       "    <tr>\n",
       "      <th>2</th>\n",
       "      <td>1</td>\n",
       "      <td>Meat</td>\n",
       "      <td>543.38</td>\n",
       "    </tr>\n",
       "    <tr>\n",
       "      <th>3</th>\n",
       "      <td>1</td>\n",
       "      <td>Vegetables</td>\n",
       "      <td>167.12</td>\n",
       "    </tr>\n",
       "    <tr>\n",
       "      <th>4</th>\n",
       "      <td>2</td>\n",
       "      <td>Dairy</td>\n",
       "      <td>150.63</td>\n",
       "    </tr>\n",
       "    <tr>\n",
       "      <th>...</th>\n",
       "      <td>...</td>\n",
       "      <td>...</td>\n",
       "      <td>...</td>\n",
       "    </tr>\n",
       "    <tr>\n",
       "      <th>3151</th>\n",
       "      <td>869</td>\n",
       "      <td>Vegetables</td>\n",
       "      <td>168.85</td>\n",
       "    </tr>\n",
       "    <tr>\n",
       "      <th>3152</th>\n",
       "      <td>870</td>\n",
       "      <td>Dairy</td>\n",
       "      <td>247.97</td>\n",
       "    </tr>\n",
       "    <tr>\n",
       "      <th>3153</th>\n",
       "      <td>870</td>\n",
       "      <td>Fruit</td>\n",
       "      <td>322.90</td>\n",
       "    </tr>\n",
       "    <tr>\n",
       "      <th>3154</th>\n",
       "      <td>870</td>\n",
       "      <td>Meat</td>\n",
       "      <td>284.26</td>\n",
       "    </tr>\n",
       "    <tr>\n",
       "      <th>3155</th>\n",
       "      <td>870</td>\n",
       "      <td>Vegetables</td>\n",
       "      <td>203.80</td>\n",
       "    </tr>\n",
       "  </tbody>\n",
       "</table>\n",
       "<p>3156 rows × 3 columns</p>\n",
       "</div>"
      ],
      "text/plain": [
       "      customer_id product_area_name  sales_cost\n",
       "0               1             Dairy      367.74\n",
       "1               1             Fruit      276.00\n",
       "2               1              Meat      543.38\n",
       "3               1        Vegetables      167.12\n",
       "4               2             Dairy      150.63\n",
       "...           ...               ...         ...\n",
       "3151          869        Vegetables      168.85\n",
       "3152          870             Dairy      247.97\n",
       "3153          870             Fruit      322.90\n",
       "3154          870              Meat      284.26\n",
       "3155          870        Vegetables      203.80\n",
       "\n",
       "[3156 rows x 3 columns]"
      ]
     },
     "execution_count": 13,
     "metadata": {},
     "output_type": "execute_result"
    }
   ],
   "source": [
    "transactions_summary = transactions.groupby([\"customer_id\", \"product_area_name\"]).sales_cost.sum().reset_index()\n",
    "transactions_summary"
   ]
  },
  {
   "cell_type": "code",
   "execution_count": 14,
   "id": "3044ab49",
   "metadata": {},
   "outputs": [],
   "source": [
    "# pivot data to place product areas as columns\n",
    "transaction_summary_pivot = transactions.pivot_table(index = 'customer_id', \n",
    "                                                   columns = 'product_area_name', \n",
    "                                                   values = 'sales_cost', \n",
    "                                                   aggfunc = 'sum', \n",
    "                                                   fill_value = 0, \n",
    "                                                   margins = True, \n",
    "                                                   margins_name = \"Total\").rename_axis(None, axis = 1)"
   ]
  },
  {
   "cell_type": "code",
   "execution_count": 15,
   "id": "de900e1a",
   "metadata": {},
   "outputs": [
    {
     "data": {
      "text/html": [
       "<div>\n",
       "<style scoped>\n",
       "    .dataframe tbody tr th:only-of-type {\n",
       "        vertical-align: middle;\n",
       "    }\n",
       "\n",
       "    .dataframe tbody tr th {\n",
       "        vertical-align: top;\n",
       "    }\n",
       "\n",
       "    .dataframe thead th {\n",
       "        text-align: right;\n",
       "    }\n",
       "</style>\n",
       "<table border=\"1\" class=\"dataframe\">\n",
       "  <thead>\n",
       "    <tr style=\"text-align: right;\">\n",
       "      <th></th>\n",
       "      <th>Dairy</th>\n",
       "      <th>Fruit</th>\n",
       "      <th>Meat</th>\n",
       "      <th>Vegetables</th>\n",
       "      <th>Total</th>\n",
       "    </tr>\n",
       "    <tr>\n",
       "      <th>customer_id</th>\n",
       "      <th></th>\n",
       "      <th></th>\n",
       "      <th></th>\n",
       "      <th></th>\n",
       "      <th></th>\n",
       "    </tr>\n",
       "  </thead>\n",
       "  <tbody>\n",
       "    <tr>\n",
       "      <th>1</th>\n",
       "      <td>367.74</td>\n",
       "      <td>276.00</td>\n",
       "      <td>543.38</td>\n",
       "      <td>167.12</td>\n",
       "      <td>1354.24</td>\n",
       "    </tr>\n",
       "    <tr>\n",
       "      <th>2</th>\n",
       "      <td>150.63</td>\n",
       "      <td>120.93</td>\n",
       "      <td>241.21</td>\n",
       "      <td>99.05</td>\n",
       "      <td>611.82</td>\n",
       "    </tr>\n",
       "    <tr>\n",
       "      <th>3</th>\n",
       "      <td>46.20</td>\n",
       "      <td>75.39</td>\n",
       "      <td>171.13</td>\n",
       "      <td>31.50</td>\n",
       "      <td>324.22</td>\n",
       "    </tr>\n",
       "    <tr>\n",
       "      <th>4</th>\n",
       "      <td>341.91</td>\n",
       "      <td>245.36</td>\n",
       "      <td>272.79</td>\n",
       "      <td>142.35</td>\n",
       "      <td>1002.41</td>\n",
       "    </tr>\n",
       "    <tr>\n",
       "      <th>5</th>\n",
       "      <td>694.71</td>\n",
       "      <td>815.32</td>\n",
       "      <td>1405.19</td>\n",
       "      <td>350.10</td>\n",
       "      <td>3265.32</td>\n",
       "    </tr>\n",
       "    <tr>\n",
       "      <th>...</th>\n",
       "      <td>...</td>\n",
       "      <td>...</td>\n",
       "      <td>...</td>\n",
       "      <td>...</td>\n",
       "      <td>...</td>\n",
       "    </tr>\n",
       "    <tr>\n",
       "      <th>867</th>\n",
       "      <td>129.84</td>\n",
       "      <td>176.73</td>\n",
       "      <td>180.49</td>\n",
       "      <td>88.83</td>\n",
       "      <td>575.89</td>\n",
       "    </tr>\n",
       "    <tr>\n",
       "      <th>868</th>\n",
       "      <td>225.59</td>\n",
       "      <td>358.89</td>\n",
       "      <td>343.26</td>\n",
       "      <td>189.24</td>\n",
       "      <td>1116.98</td>\n",
       "    </tr>\n",
       "    <tr>\n",
       "      <th>869</th>\n",
       "      <td>126.28</td>\n",
       "      <td>127.50</td>\n",
       "      <td>183.88</td>\n",
       "      <td>168.85</td>\n",
       "      <td>606.51</td>\n",
       "    </tr>\n",
       "    <tr>\n",
       "      <th>870</th>\n",
       "      <td>247.97</td>\n",
       "      <td>322.90</td>\n",
       "      <td>284.26</td>\n",
       "      <td>203.80</td>\n",
       "      <td>1058.93</td>\n",
       "    </tr>\n",
       "    <tr>\n",
       "      <th>Total</th>\n",
       "      <td>175792.77</td>\n",
       "      <td>252033.53</td>\n",
       "      <td>240892.82</td>\n",
       "      <td>133879.25</td>\n",
       "      <td>802598.37</td>\n",
       "    </tr>\n",
       "  </tbody>\n",
       "</table>\n",
       "<p>871 rows × 5 columns</p>\n",
       "</div>"
      ],
      "text/plain": [
       "                 Dairy      Fruit       Meat  Vegetables      Total\n",
       "customer_id                                                        \n",
       "1               367.74     276.00     543.38      167.12    1354.24\n",
       "2               150.63     120.93     241.21       99.05     611.82\n",
       "3                46.20      75.39     171.13       31.50     324.22\n",
       "4               341.91     245.36     272.79      142.35    1002.41\n",
       "5               694.71     815.32    1405.19      350.10    3265.32\n",
       "...                ...        ...        ...         ...        ...\n",
       "867             129.84     176.73     180.49       88.83     575.89\n",
       "868             225.59     358.89     343.26      189.24    1116.98\n",
       "869             126.28     127.50     183.88      168.85     606.51\n",
       "870             247.97     322.90     284.26      203.80    1058.93\n",
       "Total        175792.77  252033.53  240892.82   133879.25  802598.37\n",
       "\n",
       "[871 rows x 5 columns]"
      ]
     },
     "execution_count": 15,
     "metadata": {},
     "output_type": "execute_result"
    }
   ],
   "source": [
    "transaction_summary_pivot"
   ]
  },
  {
   "cell_type": "code",
   "execution_count": 52,
   "id": "c4ff5a66",
   "metadata": {},
   "outputs": [],
   "source": [
    "#turn sales into percentages, axis = 0 means operation is to be carried out on rows\n",
    "transaction_summary_pivot = transaction_summary_pivot.div(transaction_summary_pivot.Total, axis =0)\n"
   ]
  },
  {
   "cell_type": "code",
   "execution_count": 53,
   "id": "b93f2f1d",
   "metadata": {},
   "outputs": [
    {
     "data": {
      "text/html": [
       "<div>\n",
       "<style scoped>\n",
       "    .dataframe tbody tr th:only-of-type {\n",
       "        vertical-align: middle;\n",
       "    }\n",
       "\n",
       "    .dataframe tbody tr th {\n",
       "        vertical-align: top;\n",
       "    }\n",
       "\n",
       "    .dataframe thead th {\n",
       "        text-align: right;\n",
       "    }\n",
       "</style>\n",
       "<table border=\"1\" class=\"dataframe\">\n",
       "  <thead>\n",
       "    <tr style=\"text-align: right;\">\n",
       "      <th></th>\n",
       "      <th>Dairy</th>\n",
       "      <th>Fruit</th>\n",
       "      <th>Meat</th>\n",
       "      <th>Vegetables</th>\n",
       "      <th>Total</th>\n",
       "    </tr>\n",
       "    <tr>\n",
       "      <th>customer_id</th>\n",
       "      <th></th>\n",
       "      <th></th>\n",
       "      <th></th>\n",
       "      <th></th>\n",
       "      <th></th>\n",
       "    </tr>\n",
       "  </thead>\n",
       "  <tbody>\n",
       "    <tr>\n",
       "      <th>1</th>\n",
       "      <td>0.271547</td>\n",
       "      <td>0.203804</td>\n",
       "      <td>0.401244</td>\n",
       "      <td>0.123405</td>\n",
       "      <td>1.0</td>\n",
       "    </tr>\n",
       "    <tr>\n",
       "      <th>2</th>\n",
       "      <td>0.246200</td>\n",
       "      <td>0.197656</td>\n",
       "      <td>0.394250</td>\n",
       "      <td>0.161894</td>\n",
       "      <td>1.0</td>\n",
       "    </tr>\n",
       "    <tr>\n",
       "      <th>3</th>\n",
       "      <td>0.142496</td>\n",
       "      <td>0.232527</td>\n",
       "      <td>0.527821</td>\n",
       "      <td>0.097156</td>\n",
       "      <td>1.0</td>\n",
       "    </tr>\n",
       "    <tr>\n",
       "      <th>4</th>\n",
       "      <td>0.341088</td>\n",
       "      <td>0.244770</td>\n",
       "      <td>0.272134</td>\n",
       "      <td>0.142008</td>\n",
       "      <td>1.0</td>\n",
       "    </tr>\n",
       "    <tr>\n",
       "      <th>5</th>\n",
       "      <td>0.212754</td>\n",
       "      <td>0.249691</td>\n",
       "      <td>0.430338</td>\n",
       "      <td>0.107218</td>\n",
       "      <td>1.0</td>\n",
       "    </tr>\n",
       "    <tr>\n",
       "      <th>...</th>\n",
       "      <td>...</td>\n",
       "      <td>...</td>\n",
       "      <td>...</td>\n",
       "      <td>...</td>\n",
       "      <td>...</td>\n",
       "    </tr>\n",
       "    <tr>\n",
       "      <th>867</th>\n",
       "      <td>0.225460</td>\n",
       "      <td>0.306882</td>\n",
       "      <td>0.313411</td>\n",
       "      <td>0.154248</td>\n",
       "      <td>1.0</td>\n",
       "    </tr>\n",
       "    <tr>\n",
       "      <th>868</th>\n",
       "      <td>0.201964</td>\n",
       "      <td>0.321304</td>\n",
       "      <td>0.307311</td>\n",
       "      <td>0.169421</td>\n",
       "      <td>1.0</td>\n",
       "    </tr>\n",
       "    <tr>\n",
       "      <th>869</th>\n",
       "      <td>0.208208</td>\n",
       "      <td>0.210219</td>\n",
       "      <td>0.303177</td>\n",
       "      <td>0.278396</td>\n",
       "      <td>1.0</td>\n",
       "    </tr>\n",
       "    <tr>\n",
       "      <th>870</th>\n",
       "      <td>0.234170</td>\n",
       "      <td>0.304930</td>\n",
       "      <td>0.268441</td>\n",
       "      <td>0.192458</td>\n",
       "      <td>1.0</td>\n",
       "    </tr>\n",
       "    <tr>\n",
       "      <th>Total</th>\n",
       "      <td>0.219030</td>\n",
       "      <td>0.314022</td>\n",
       "      <td>0.300141</td>\n",
       "      <td>0.166807</td>\n",
       "      <td>1.0</td>\n",
       "    </tr>\n",
       "  </tbody>\n",
       "</table>\n",
       "<p>871 rows × 5 columns</p>\n",
       "</div>"
      ],
      "text/plain": [
       "                Dairy     Fruit      Meat  Vegetables  Total\n",
       "customer_id                                                 \n",
       "1            0.271547  0.203804  0.401244    0.123405    1.0\n",
       "2            0.246200  0.197656  0.394250    0.161894    1.0\n",
       "3            0.142496  0.232527  0.527821    0.097156    1.0\n",
       "4            0.341088  0.244770  0.272134    0.142008    1.0\n",
       "5            0.212754  0.249691  0.430338    0.107218    1.0\n",
       "...               ...       ...       ...         ...    ...\n",
       "867          0.225460  0.306882  0.313411    0.154248    1.0\n",
       "868          0.201964  0.321304  0.307311    0.169421    1.0\n",
       "869          0.208208  0.210219  0.303177    0.278396    1.0\n",
       "870          0.234170  0.304930  0.268441    0.192458    1.0\n",
       "Total        0.219030  0.314022  0.300141    0.166807    1.0\n",
       "\n",
       "[871 rows x 5 columns]"
      ]
     },
     "execution_count": 53,
     "metadata": {},
     "output_type": "execute_result"
    }
   ],
   "source": [
    "transaction_summary_pivot"
   ]
  },
  {
   "cell_type": "code",
   "execution_count": 54,
   "id": "3df28fa7",
   "metadata": {},
   "outputs": [],
   "source": [
    "#drop the total column\n",
    "\n",
    "data_for_clustering = transaction_summary_pivot.drop(['Total'], axis = 1)"
   ]
  },
  {
   "cell_type": "code",
   "execution_count": 55,
   "id": "d07b68e6",
   "metadata": {},
   "outputs": [
    {
     "data": {
      "text/html": [
       "<div>\n",
       "<style scoped>\n",
       "    .dataframe tbody tr th:only-of-type {\n",
       "        vertical-align: middle;\n",
       "    }\n",
       "\n",
       "    .dataframe tbody tr th {\n",
       "        vertical-align: top;\n",
       "    }\n",
       "\n",
       "    .dataframe thead th {\n",
       "        text-align: right;\n",
       "    }\n",
       "</style>\n",
       "<table border=\"1\" class=\"dataframe\">\n",
       "  <thead>\n",
       "    <tr style=\"text-align: right;\">\n",
       "      <th></th>\n",
       "      <th>Dairy</th>\n",
       "      <th>Fruit</th>\n",
       "      <th>Meat</th>\n",
       "      <th>Vegetables</th>\n",
       "    </tr>\n",
       "    <tr>\n",
       "      <th>customer_id</th>\n",
       "      <th></th>\n",
       "      <th></th>\n",
       "      <th></th>\n",
       "      <th></th>\n",
       "    </tr>\n",
       "  </thead>\n",
       "  <tbody>\n",
       "    <tr>\n",
       "      <th>1</th>\n",
       "      <td>0.271547</td>\n",
       "      <td>0.203804</td>\n",
       "      <td>0.401244</td>\n",
       "      <td>0.123405</td>\n",
       "    </tr>\n",
       "    <tr>\n",
       "      <th>2</th>\n",
       "      <td>0.246200</td>\n",
       "      <td>0.197656</td>\n",
       "      <td>0.394250</td>\n",
       "      <td>0.161894</td>\n",
       "    </tr>\n",
       "    <tr>\n",
       "      <th>3</th>\n",
       "      <td>0.142496</td>\n",
       "      <td>0.232527</td>\n",
       "      <td>0.527821</td>\n",
       "      <td>0.097156</td>\n",
       "    </tr>\n",
       "  </tbody>\n",
       "</table>\n",
       "</div>"
      ],
      "text/plain": [
       "                Dairy     Fruit      Meat  Vegetables\n",
       "customer_id                                          \n",
       "1            0.271547  0.203804  0.401244    0.123405\n",
       "2            0.246200  0.197656  0.394250    0.161894\n",
       "3            0.142496  0.232527  0.527821    0.097156"
      ]
     },
     "execution_count": 55,
     "metadata": {},
     "output_type": "execute_result"
    }
   ],
   "source": [
    "data_for_clustering.head(3)"
   ]
  },
  {
   "cell_type": "markdown",
   "id": "245dec00",
   "metadata": {},
   "source": [
    "# K-Means <a name = \"k-means\"></a>"
   ]
  },
  {
   "cell_type": "markdown",
   "id": "1242c4ea",
   "metadata": {},
   "source": [
    "### Concept Overview <a name=\"kmeans-overview\"></a>\n",
    "\n",
    "K-Means is an *unsupervised learning* algorithm, meaning that it does not look to predict known labels or values, but instead looks to isolate patterns within unlabelled data.\n",
    "\n",
    "The algorithm works in a way where it partitions data-points into distinct groups (clusters) based upon their *similarity* to each other.\n",
    "\n",
    "This similarity is most often the eucliedean (straight-line) distance between data-points in n-dimensional space.  Each variable that is included lies on one of the dimensions in space."
   ]
  },
  {
   "cell_type": "markdown",
   "id": "3ea1d6be",
   "metadata": {},
   "source": [
    "### Data Preprocessing <a name = \"data-prep\"></a>"
   ]
  },
  {
   "cell_type": "markdown",
   "id": "2610e462",
   "metadata": {},
   "source": [
    "There are three vital preprocessing steps for k-means, namely:\n",
    "\n",
    "* **Missing values in the data**: This can be dealt with by either imputation or simply removing those rows if the percentage of missing values is negligible.\n",
    "* **The effect of outliers**: Since we are using a distance-based algorithm, the presence of outliers could really skew the results.In this case however, since the clustering data is by percentages per customer, we don't face this issue. \n",
    "* **Feature Scaling**: We would be normalizing the data using the MinMax Scaler from the *scikit-learn* library. Normalization means we are forcing the values between 0 and 1, which is even more appropriate in the event that we had to encode categorical variables. "
   ]
  },
  {
   "cell_type": "code",
   "execution_count": 56,
   "id": "2f562b7c",
   "metadata": {},
   "outputs": [
    {
     "data": {
      "text/plain": [
       "Dairy         0\n",
       "Fruit         0\n",
       "Meat          0\n",
       "Vegetables    0\n",
       "dtype: int64"
      ]
     },
     "execution_count": 56,
     "metadata": {},
     "output_type": "execute_result"
    }
   ],
   "source": [
    "#check for missing values\n",
    "\n",
    "data_for_clustering.isna().sum()"
   ]
  },
  {
   "cell_type": "code",
   "execution_count": null,
   "id": "08621b8f",
   "metadata": {},
   "outputs": [],
   "source": [
    "# no outliers in the data"
   ]
  },
  {
   "cell_type": "code",
   "execution_count": 57,
   "id": "c01599ae",
   "metadata": {},
   "outputs": [],
   "source": [
    "# scale data - normalize \n",
    "\n",
    "scale_norm = MinMaxScaler()\n"
   ]
  },
  {
   "cell_type": "code",
   "execution_count": 58,
   "id": "50e20c6f",
   "metadata": {},
   "outputs": [],
   "source": [
    "data_for_clustering_scaled = pd.DataFrame(scale_norm.fit_transform(data_for_clustering), columns = data_for_clustering.columns)"
   ]
  },
  {
   "cell_type": "code",
   "execution_count": 59,
   "id": "f077fd87",
   "metadata": {
    "scrolled": true
   },
   "outputs": [
    {
     "data": {
      "text/html": [
       "<div>\n",
       "<style scoped>\n",
       "    .dataframe tbody tr th:only-of-type {\n",
       "        vertical-align: middle;\n",
       "    }\n",
       "\n",
       "    .dataframe tbody tr th {\n",
       "        vertical-align: top;\n",
       "    }\n",
       "\n",
       "    .dataframe thead th {\n",
       "        text-align: right;\n",
       "    }\n",
       "</style>\n",
       "<table border=\"1\" class=\"dataframe\">\n",
       "  <thead>\n",
       "    <tr style=\"text-align: right;\">\n",
       "      <th></th>\n",
       "      <th>Dairy</th>\n",
       "      <th>Fruit</th>\n",
       "      <th>Meat</th>\n",
       "      <th>Vegetables</th>\n",
       "    </tr>\n",
       "  </thead>\n",
       "  <tbody>\n",
       "    <tr>\n",
       "      <th>842</th>\n",
       "      <td>0.154391</td>\n",
       "      <td>0.415766</td>\n",
       "      <td>0.427427</td>\n",
       "      <td>0.173349</td>\n",
       "    </tr>\n",
       "    <tr>\n",
       "      <th>9</th>\n",
       "      <td>0.315468</td>\n",
       "      <td>0.309491</td>\n",
       "      <td>0.354504</td>\n",
       "      <td>0.189999</td>\n",
       "    </tr>\n",
       "    <tr>\n",
       "      <th>644</th>\n",
       "      <td>0.242325</td>\n",
       "      <td>0.310041</td>\n",
       "      <td>0.448106</td>\n",
       "      <td>0.159251</td>\n",
       "    </tr>\n",
       "  </tbody>\n",
       "</table>\n",
       "</div>"
      ],
      "text/plain": [
       "        Dairy     Fruit      Meat  Vegetables\n",
       "842  0.154391  0.415766  0.427427    0.173349\n",
       "9    0.315468  0.309491  0.354504    0.189999\n",
       "644  0.242325  0.310041  0.448106    0.159251"
      ]
     },
     "execution_count": 59,
     "metadata": {},
     "output_type": "execute_result"
    }
   ],
   "source": [
    "data_for_clustering_scaled.sample(3)"
   ]
  },
  {
   "cell_type": "markdown",
   "id": "3618fbd2",
   "metadata": {},
   "source": [
    "### Finding A Good Value for k <a name=\"finding-best-k\"></a>"
   ]
  },
  {
   "cell_type": "markdown",
   "id": "15cd2911",
   "metadata": {},
   "source": [
    "The default value for k in the *scikit-learn* KMeans algorithm is 8 which means it will look to split the data into eight distinct clusters; this may not always be appropriate for the specific user data. So it is necessary to investigate an appropriate k to use in our specific task.\n",
    "\n",
    "The approach we will utilise here is known as *Within Cluster Sum of Squares (WCSS)* which measures the sum of the squared Euclidean distances that data points lie from their closest centroid.  WCSS can help us understand the point where adding *more clusters* provides little extra benefit in terms of separating our data.\n",
    "\n",
    "In the code below we will test multiple values for k, and plot how this WCSS metric changes.  As we increase the value for k (in other words, as we increase the number or centroids or clusters) the WCSS value will always decrease.  However, these decreases will get smaller and smaller each time we add another centroid and we are looking for a point where this decrease is quite prominent *before* this point of diminishing returns. This is usually called an Elbow plot."
   ]
  },
  {
   "cell_type": "code",
   "execution_count": 72,
   "id": "d0797052",
   "metadata": {},
   "outputs": [
    {
     "name": "stderr",
     "output_type": "stream",
     "text": [
      "C:\\Users\\Ibiene\\anaconda3\\lib\\site-packages\\sklearn\\cluster\\_kmeans.py:1036: UserWarning: KMeans is known to have a memory leak on Windows with MKL, when there are less chunks than available threads. You can avoid it by setting the environment variable OMP_NUM_THREADS=4.\n",
      "  warnings.warn(\n"
     ]
    }
   ],
   "source": [
    "# Use Within Cluster Sum of Sqaures (WCSS) to find a good value for k\n",
    "\n",
    "k_values = list(range(1, 10))\n",
    "wcss_list = []\n",
    "\n",
    "for k in k_values:\n",
    "    kmeans = KMeans(n_clusters = k, random_state = 42)\n",
    "    kmeans.fit(data_for_clustering_scaled)\n",
    "    wcss_list.append(kmeans.inertia_)\n",
    "    "
   ]
  },
  {
   "cell_type": "code",
   "execution_count": 61,
   "id": "945bc0eb",
   "metadata": {},
   "outputs": [
    {
     "data": {
      "image/png": "[encoded data removed]",
      "text/plain": [
       "<Figure size 432x288 with 1 Axes>"
      ]
     },
     "metadata": {
      "needs_background": "light"
     },
     "output_type": "display_data"
    }
   ],
   "source": [
    "plt.plot(k_values, wcss_list)\n",
    "plt.title(\"Within Cluster Sum of Squares - by k\")\n",
    "plt.xlabel(\"k\")\n",
    "plt.ylabel(\"WCSS Score\")\n",
    "plt.tight_layout()\n",
    "plt.show()"
   ]
  },
  {
   "cell_type": "markdown",
   "id": "df46d24f",
   "metadata": {},
   "source": [
    "### Model Fitting and Results <a name =\"model-fitting\"></a>"
   ]
  },
  {
   "cell_type": "code",
   "execution_count": 62,
   "id": "db3c14b1",
   "metadata": {},
   "outputs": [
    {
     "data": {
      "text/plain": [
       "KMeans(n_clusters=3, random_state=42)"
      ]
     },
     "execution_count": 62,
     "metadata": {},
     "output_type": "execute_result"
    }
   ],
   "source": [
    "# Instantiate and fit model \n",
    "\n",
    "kmeans = KMeans(n_clusters = 3, random_state = 42)\n",
    "kmeans.fit(data_for_clustering_scaled)\n"
   ]
  },
  {
   "cell_type": "code",
   "execution_count": 63,
   "id": "6f0eac7a",
   "metadata": {},
   "outputs": [],
   "source": [
    "#add cluster labels to data\n",
    "data_for_clustering['Cluster'] = kmeans.labels_"
   ]
  },
  {
   "cell_type": "code",
   "execution_count": 64,
   "id": "99e8566c",
   "metadata": {},
   "outputs": [
    {
     "data": {
      "text/html": [
       "<div>\n",
       "<style scoped>\n",
       "    .dataframe tbody tr th:only-of-type {\n",
       "        vertical-align: middle;\n",
       "    }\n",
       "\n",
       "    .dataframe tbody tr th {\n",
       "        vertical-align: top;\n",
       "    }\n",
       "\n",
       "    .dataframe thead th {\n",
       "        text-align: right;\n",
       "    }\n",
       "</style>\n",
       "<table border=\"1\" class=\"dataframe\">\n",
       "  <thead>\n",
       "    <tr style=\"text-align: right;\">\n",
       "      <th></th>\n",
       "      <th>Dairy</th>\n",
       "      <th>Fruit</th>\n",
       "      <th>Meat</th>\n",
       "      <th>Vegetables</th>\n",
       "      <th>Cluster</th>\n",
       "    </tr>\n",
       "    <tr>\n",
       "      <th>customer_id</th>\n",
       "      <th></th>\n",
       "      <th></th>\n",
       "      <th></th>\n",
       "      <th></th>\n",
       "      <th></th>\n",
       "    </tr>\n",
       "  </thead>\n",
       "  <tbody>\n",
       "    <tr>\n",
       "      <th>1</th>\n",
       "      <td>0.271547</td>\n",
       "      <td>0.203804</td>\n",
       "      <td>0.401244</td>\n",
       "      <td>0.123405</td>\n",
       "      <td>0</td>\n",
       "    </tr>\n",
       "    <tr>\n",
       "      <th>2</th>\n",
       "      <td>0.246200</td>\n",
       "      <td>0.197656</td>\n",
       "      <td>0.394250</td>\n",
       "      <td>0.161894</td>\n",
       "      <td>0</td>\n",
       "    </tr>\n",
       "    <tr>\n",
       "      <th>3</th>\n",
       "      <td>0.142496</td>\n",
       "      <td>0.232527</td>\n",
       "      <td>0.527821</td>\n",
       "      <td>0.097156</td>\n",
       "      <td>0</td>\n",
       "    </tr>\n",
       "    <tr>\n",
       "      <th>4</th>\n",
       "      <td>0.341088</td>\n",
       "      <td>0.244770</td>\n",
       "      <td>0.272134</td>\n",
       "      <td>0.142008</td>\n",
       "      <td>0</td>\n",
       "    </tr>\n",
       "    <tr>\n",
       "      <th>5</th>\n",
       "      <td>0.212754</td>\n",
       "      <td>0.249691</td>\n",
       "      <td>0.430338</td>\n",
       "      <td>0.107218</td>\n",
       "      <td>0</td>\n",
       "    </tr>\n",
       "    <tr>\n",
       "      <th>...</th>\n",
       "      <td>...</td>\n",
       "      <td>...</td>\n",
       "      <td>...</td>\n",
       "      <td>...</td>\n",
       "      <td>...</td>\n",
       "    </tr>\n",
       "    <tr>\n",
       "      <th>867</th>\n",
       "      <td>0.225460</td>\n",
       "      <td>0.306882</td>\n",
       "      <td>0.313411</td>\n",
       "      <td>0.154248</td>\n",
       "      <td>0</td>\n",
       "    </tr>\n",
       "    <tr>\n",
       "      <th>868</th>\n",
       "      <td>0.201964</td>\n",
       "      <td>0.321304</td>\n",
       "      <td>0.307311</td>\n",
       "      <td>0.169421</td>\n",
       "      <td>0</td>\n",
       "    </tr>\n",
       "    <tr>\n",
       "      <th>869</th>\n",
       "      <td>0.208208</td>\n",
       "      <td>0.210219</td>\n",
       "      <td>0.303177</td>\n",
       "      <td>0.278396</td>\n",
       "      <td>0</td>\n",
       "    </tr>\n",
       "    <tr>\n",
       "      <th>870</th>\n",
       "      <td>0.234170</td>\n",
       "      <td>0.304930</td>\n",
       "      <td>0.268441</td>\n",
       "      <td>0.192458</td>\n",
       "      <td>0</td>\n",
       "    </tr>\n",
       "    <tr>\n",
       "      <th>Total</th>\n",
       "      <td>0.219030</td>\n",
       "      <td>0.314022</td>\n",
       "      <td>0.300141</td>\n",
       "      <td>0.166807</td>\n",
       "      <td>0</td>\n",
       "    </tr>\n",
       "  </tbody>\n",
       "</table>\n",
       "<p>871 rows × 5 columns</p>\n",
       "</div>"
      ],
      "text/plain": [
       "                Dairy     Fruit      Meat  Vegetables  Cluster\n",
       "customer_id                                                   \n",
       "1            0.271547  0.203804  0.401244    0.123405        0\n",
       "2            0.246200  0.197656  0.394250    0.161894        0\n",
       "3            0.142496  0.232527  0.527821    0.097156        0\n",
       "4            0.341088  0.244770  0.272134    0.142008        0\n",
       "5            0.212754  0.249691  0.430338    0.107218        0\n",
       "...               ...       ...       ...         ...      ...\n",
       "867          0.225460  0.306882  0.313411    0.154248        0\n",
       "868          0.201964  0.321304  0.307311    0.169421        0\n",
       "869          0.208208  0.210219  0.303177    0.278396        0\n",
       "870          0.234170  0.304930  0.268441    0.192458        0\n",
       "Total        0.219030  0.314022  0.300141    0.166807        0\n",
       "\n",
       "[871 rows x 5 columns]"
      ]
     },
     "execution_count": 64,
     "metadata": {},
     "output_type": "execute_result"
    }
   ],
   "source": [
    "data_for_clustering"
   ]
  },
  {
   "cell_type": "code",
   "execution_count": 65,
   "id": "f4329295",
   "metadata": {},
   "outputs": [
    {
     "data": {
      "text/plain": [
       "0    641\n",
       "2    127\n",
       "1    103\n",
       "Name: Cluster, dtype: int64"
      ]
     },
     "execution_count": 65,
     "metadata": {},
     "output_type": "execute_result"
    }
   ],
   "source": [
    "# check cluster sizes\n",
    "data_for_clustering.Cluster.value_counts()"
   ]
  },
  {
   "cell_type": "code",
   "execution_count": 66,
   "id": "2ba1a92a",
   "metadata": {},
   "outputs": [
    {
     "data": {
      "text/plain": [
       "0    0.735936\n",
       "2    0.145809\n",
       "1    0.118255\n",
       "Name: Cluster, dtype: float64"
      ]
     },
     "execution_count": 66,
     "metadata": {},
     "output_type": "execute_result"
    }
   ],
   "source": [
    "data_for_clustering.Cluster.value_counts(normalize = True)"
   ]
  },
  {
   "cell_type": "code",
   "execution_count": 67,
   "id": "5b2e978b",
   "metadata": {},
   "outputs": [],
   "source": [
    "# profile our clusters by looking at summary statistics - why did the algorithm consider them to be distinct?\n",
    "cluster_summary = data_for_clustering.groupby('Cluster')[['Dairy', 'Fruit', 'Meat', 'Vegetables']].mean()"
   ]
  },
  {
   "cell_type": "code",
   "execution_count": 68,
   "id": "6c5a01a4",
   "metadata": {},
   "outputs": [
    {
     "data": {
      "text/html": [
       "<div>\n",
       "<style scoped>\n",
       "    .dataframe tbody tr th:only-of-type {\n",
       "        vertical-align: middle;\n",
       "    }\n",
       "\n",
       "    .dataframe tbody tr th {\n",
       "        vertical-align: top;\n",
       "    }\n",
       "\n",
       "    .dataframe thead th {\n",
       "        text-align: right;\n",
       "    }\n",
       "</style>\n",
       "<table border=\"1\" class=\"dataframe\">\n",
       "  <thead>\n",
       "    <tr style=\"text-align: right;\">\n",
       "      <th></th>\n",
       "      <th>Dairy</th>\n",
       "      <th>Fruit</th>\n",
       "      <th>Meat</th>\n",
       "      <th>Vegetables</th>\n",
       "    </tr>\n",
       "    <tr>\n",
       "      <th>Cluster</th>\n",
       "      <th></th>\n",
       "      <th></th>\n",
       "      <th></th>\n",
       "      <th></th>\n",
       "    </tr>\n",
       "  </thead>\n",
       "  <tbody>\n",
       "    <tr>\n",
       "      <th>0</th>\n",
       "      <td>22.09</td>\n",
       "      <td>26.46</td>\n",
       "      <td>37.65</td>\n",
       "      <td>13.80</td>\n",
       "    </tr>\n",
       "    <tr>\n",
       "      <th>1</th>\n",
       "      <td>0.24</td>\n",
       "      <td>63.78</td>\n",
       "      <td>0.37</td>\n",
       "      <td>35.61</td>\n",
       "    </tr>\n",
       "    <tr>\n",
       "      <th>2</th>\n",
       "      <td>36.39</td>\n",
       "      <td>39.42</td>\n",
       "      <td>2.92</td>\n",
       "      <td>21.27</td>\n",
       "    </tr>\n",
       "  </tbody>\n",
       "</table>\n",
       "</div>"
      ],
      "text/plain": [
       "         Dairy  Fruit   Meat  Vegetables\n",
       "Cluster                                 \n",
       "0        22.09  26.46  37.65       13.80\n",
       "1         0.24  63.78   0.37       35.61\n",
       "2        36.39  39.42   2.92       21.27"
      ]
     },
     "execution_count": 68,
     "metadata": {},
     "output_type": "execute_result"
    }
   ],
   "source": [
    "#convert to % \n",
    "\n",
    "summary_table = round(cluster_summary*100, 2)\n",
    "summary_table"
   ]
  },
  {
   "cell_type": "markdown",
   "id": "aae0cc8e",
   "metadata": {},
   "source": [
    "\n",
    "\n",
    "* For **Cluster 0**, we see that the spend is distributed almost evenly across the various product area categories - showing customers without anyv particular dietary preference.\n",
    "* For **Cluster 1**, high proportions of spend is being allocated to Fruit & Vegetables, but very little (less than 1%) to the Dairy & Meat product areas. *It could be hypothesised that these customers are following a vegan diet**. \n",
    "* Finally customers in **Cluster 2** spend, on average, significant portions within Dairy, Fruit & Vegetables, \n",
    "but very little in the Meat product area. So similarly, we would make an *early hypothesis that these customers are more along the lines of those following a vegetarian diet - very interesting!*\n",
    "\n",
    "Additonally, from the percentage split between the groups, we see that most customers (~ 74%) follow a \"regular\" diet that is almost evenly distributed across the food groups. Interestingly, that also shows that vegetables sales in this group is lower relative to the other food groups - but that would require *tests of significance* to determine whether this is truly signifcant or random chance. \n",
    "\n"
   ]
  },
  {
   "cell_type": "markdown",
   "id": "32afa18b",
   "metadata": {},
   "source": [
    "## Application\n",
    "Even though is is a simple solution based upon high level product areas, it will help leaders in the business, and category managers gain a clearer understanding of the customer base.\n",
    "\n",
    "Tracking these clusters over time would allow the client to more quickly react to dietary trends, and adjust their messaging and inventory accordingly.\n",
    "\n",
    "Based upon these clusters, the client will be able to target customers more accurately - promoting products & discounts to customers that are truly relevant to them - overall enabling a more customer focused communication strategy.\n",
    "\n"
   ]
  },
  {
   "cell_type": "markdown",
   "id": "b9b432d7",
   "metadata": {},
   "source": [
    "## Growth & Next Steps\n",
    "It would be interesting to run this clustering/segmentation at a lower level of product areas, so rather than just the four areas of Meat, Dairy, Fruit, Vegetables - clustering spend across the sub-categories below those categories. This would mean we could create more specific clusters, and get an even more granular understanding of dietary preferences within the customer base.\n",
    "\n",
    "Here we’ve just focused on variables that are linked directly to sales - it could be interesting to also include customer metrics such as distance to store, gender etc to give a even more well-rounded customer segmentation.\n",
    "\n",
    "It would be useful to test other clustering approaches such as Hierarchical Clustering or DBSCAN to compare the results."
   ]
  }
 ],
 "metadata": {
  "kernelspec": {
   "display_name": "Python 3 (ipykernel)",
   "language": "python",
   "name": "python3"
  },
  "language_info": {
   "codemirror_mode": {
    "name": "ipython",
    "version": 3
   },
   "file_extension": ".py",
   "mimetype": "text/x-python",
   "name": "python",
   "nbconvert_exporter": "python",
   "pygments_lexer": "ipython3",
   "version": "3.9.12"
  }
 },
 "nbformat": 4,
 "nbformat_minor": 5
}
